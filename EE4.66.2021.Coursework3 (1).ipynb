{
 "cells": [
  {
   "cell_type": "markdown",
   "metadata": {},
   "source": [
    "# Coursework 3: Bilinear Inverse Problems and Low-Rank Matrix Recovery"
   ]
  },
  {
   "cell_type": "markdown",
   "metadata": {},
   "source": [
    "[] By tick the checkbox, we hereby declare that this coursework report is our own and autonomous work. We have acknowledged all material and sources used in its preparation, including books, articles, reports, lecture notes, internet software packages, and any other kind of document, electronic or personal communication. This work has not been submitted for any other assessment."
   ]
  },
  {
   "cell_type": "markdown",
   "metadata": {},
   "source": [
    "## 3.1 Test Data Generation (10%)\n",
    "\n",
    "We consider the low-rank matrix completion problem given by \n",
    "$$\n",
    "    \\bm{y} = \\mathcal{P}_{\\Omega}(\\bm{X}) \n",
    "$$\n",
    "where $\\bm{X} \\in \\mathbb{R}^{m \\times n}$ is a low rank matrix of rank $r$. \n",
    "\n",
    "Data generation: Write $\\bm{X} = \\bm{U} \\bm{G} \\bm{V}^{\\mathsf{T}}$, where $\\bm{U} \\in \\mathbb{R}^{m \\times r}$, $\\bm{G} \\in \\mathbb{R}^{r \\times r}$, and $\\bm{V} \\in \\mathbb{R}^{n \\times r}$ are matrices with i.i.d. $\\mathcal{N}(0,1)$ Gaussian entries. (Note that by $\\bm{X} = \\bm{U} \\bm{G} \\bm{V}^{\\mathsf{T}}$ we are not talking about SVD.)\n",
    "\n",
    "Design and implement a function `LRMC_data_gen` to generate test data. Provide necessary documentation."
   ]
  },
  {
   "cell_type": "markdown",
   "metadata": {},
   "source": [
    "## 3.2 Matrix Completion Techniques\n",
    "\n",
    "In the following, the suggested simulation setup is that $m = 32$, $n=48$, $r$ varies in $2:2:8$, and $|\\Omega|/mn$ varies in $\\{1/8,~ 1/6,~ 1/4,~ 1/2\\}$. "
   ]
  },
  {
   "cell_type": "markdown",
   "metadata": {},
   "source": [
    "### 3.2.1 Alternating Minimization (20%)\n",
    "\n",
    "Design, implement, and run tests for the alternating minimization method for low-rank matrix completion. Use the function name `LRMCRec_AM`. Provide necessary documentation."
   ]
  },
  {
   "cell_type": "markdown",
   "metadata": {},
   "source": [
    "### 3.2.2 Iterative Hard Thresholding (IHT) (20%)\n",
    "\n",
    "Design, implement, and run simple tests for the IHT algorithm for low-rank matrix completion. Use the function name `LRMCRec_IHT`. Provide necessary documentation. "
   ]
  },
  {
   "cell_type": "markdown",
   "metadata": {},
   "source": [
    "### 3.2.3 Iterative Shrinkage-Thresholding Algorithm (ISTA) (25%)\n",
    "\n",
    "Design, implement, and run simple tests for ISTA (to solve the Lasso formulation) for low-rank matrix completion. Use the function name `LRMCRec_ISTA`. Provide necessary documentation. Use simulations to discuss the choice of parameters."
   ]
  },
  {
   "cell_type": "markdown",
   "metadata": {},
   "source": [
    "### 3.2.4 Lasso-ADMM (25%)\n",
    "\n",
    "Design, implement, and run simple tests for an ADMM algorithm (to solve the Lasso formulation) for low-rank matrix completion. Use the function name `LRMCRec_ADMM`. Provide necessary documentation. Compare ADMM and ISTA in terms of convergence."
   ]
  },
  {
   "cell_type": "markdown",
   "metadata": {},
   "source": [
    "## Highlight\n",
    "\n",
    "Please list a couple of highlights of your coursework that may impress your markers."
   ]
  }
 ],
 "metadata": {
  "kernelspec": {
   "display_name": "Julia 1.6.3",
   "language": "julia",
   "name": "julia-1.6"
  },
  "language_info": {
   "file_extension": ".jl",
   "mimetype": "application/julia",
   "name": "julia",
   "version": "1.6.3"
  },
  "orig_nbformat": 4
 },
 "nbformat": 4,
 "nbformat_minor": 2
}
