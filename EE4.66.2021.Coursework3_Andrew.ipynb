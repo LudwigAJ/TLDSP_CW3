{
 "cells": [
  {
   "cell_type": "markdown",
   "metadata": {},
   "source": [
    "# Coursework 3: Bilinear Inverse Problems and Low-Rank Matrix Recovery"
   ]
  },
  {
   "cell_type": "markdown",
   "metadata": {},
   "source": [
    "[] By tick the checkbox, we hereby declare that this coursework report is our own and autonomous work. We have acknowledged all material and sources used in its preparation, including books, articles, reports, lecture notes, internet software packages, and any other kind of document, electronic or personal communication. This work has not been submitted for any other assessment."
   ]
  },
  {
   "cell_type": "markdown",
   "metadata": {},
   "source": [
    "## 3.1 Test Data Generation (10%)\n",
    "\n",
    "We consider the low-rank matrix completion problem given by \n",
    "$$\n",
    "    \\bm{y} = \\mathcal{P}_{\\Omega}(\\bm{X}) \n",
    "$$\n",
    "where $\\bm{X} \\in \\mathbb{R}^{m \\times n}$ is a low rank matrix of rank $r$. \n",
    "\n",
    "Data generation: Write $\\bm{X} = \\bm{U} \\bm{G} \\bm{V}^{\\mathsf{T}}$, where $\\bm{U} \\in \\mathbb{R}^{m \\times r}$, $\\bm{G} \\in \\mathbb{R}^{r \\times r}$, and $\\bm{V} \\in \\mathbb{R}^{n \\times r}$ are matrices with i.i.d. $\\mathcal{N}(0,1)$ Gaussian entries. (Note that by $\\bm{X} = \\bm{U} \\bm{G} \\bm{V}^{\\mathsf{T}}$ we are not talking about SVD.)\n",
    "\n",
    "Design and implement a function `LRMC_data_gen` to generate test data. Provide necessary documentation."
   ]
  },
  {
   "cell_type": "code",
   "execution_count": 2,
   "metadata": {},
   "outputs": [
    {
     "name": "stderr",
     "output_type": "stream",
     "text": [
      "\u001b[32m\u001b[1m    Updating\u001b[22m\u001b[39m registry at `C:\\Users\\andre\\.julia\\registries\\General`\n",
      "\u001b[32m\u001b[1m    Updating\u001b[22m\u001b[39m git-repo `https://github.com/JuliaRegistries/General.git`\n",
      "\u001b[32m\u001b[1m   Resolving\u001b[22m\u001b[39m package versions...\n",
      "\u001b[32m\u001b[1m   Installed\u001b[22m\u001b[39m OpenSpecFun_jll ── v0.5.5+0\n",
      "\u001b[32m\u001b[1m   Installed\u001b[22m\u001b[39m Libffi_jll ─────── v3.2.2+1\n",
      "\u001b[32m\u001b[1m   Installed\u001b[22m\u001b[39m Rmath_jll ──────── v0.3.0+0\n",
      "\u001b[32m\u001b[1m   Installed\u001b[22m\u001b[39m FillArrays ─────── v0.12.7\n",
      "\u001b[32m\u001b[1m   Installed\u001b[22m\u001b[39m DensityInterface ─ v0.4.0\n",
      "\u001b[32m\u001b[1m   Installed\u001b[22m\u001b[39m StatsFuns ──────── v0.9.14\n",
      "\u001b[32m\u001b[1m   Installed\u001b[22m\u001b[39m QuadGK ─────────── v2.4.2\n",
      "\u001b[32m\u001b[1m   Installed\u001b[22m\u001b[39m PDMats ─────────── v0.11.5\n",
      "\u001b[32m\u001b[1m   Installed\u001b[22m\u001b[39m Rmath ──────────── v0.7.0\n",
      "\u001b[32m\u001b[1m   Installed\u001b[22m\u001b[39m SpecialFunctions ─ v1.8.1\n",
      "\u001b[32m\u001b[1m   Installed\u001b[22m\u001b[39m Distributions ──── v0.25.32\n",
      "\u001b[32m\u001b[1m    Updating\u001b[22m\u001b[39m `C:\\Users\\andre\\.julia\\environments\\v1.6\\Project.toml`\n",
      " \u001b[90m [31c24e10] \u001b[39m\u001b[92m+ Distributions v0.25.32\u001b[39m\n",
      "\u001b[32m\u001b[1m    Updating\u001b[22m\u001b[39m `C:\\Users\\andre\\.julia\\environments\\v1.6\\Manifest.toml`\n",
      " \u001b[90m [b429d917] \u001b[39m\u001b[92m+ DensityInterface v0.4.0\u001b[39m\n",
      " \u001b[90m [31c24e10] \u001b[39m\u001b[92m+ Distributions v0.25.32\u001b[39m\n",
      " \u001b[90m [1a297f60] \u001b[39m\u001b[92m+ FillArrays v0.12.7\u001b[39m\n",
      " \u001b[90m [90014a1f] \u001b[39m\u001b[92m+ PDMats v0.11.5\u001b[39m\n",
      " \u001b[90m [1fd47b50] \u001b[39m\u001b[92m+ QuadGK v2.4.2\u001b[39m\n",
      " \u001b[90m [79098fc4] \u001b[39m\u001b[92m+ Rmath v0.7.0\u001b[39m\n",
      " \u001b[90m [276daf66] \u001b[39m\u001b[92m+ SpecialFunctions v1.8.1\u001b[39m\n",
      " \u001b[90m [4c63d2b9] \u001b[39m\u001b[92m+ StatsFuns v0.9.14\u001b[39m\n",
      " \u001b[90m [e9f186c6] \u001b[39m\u001b[93m↑ Libffi_jll v3.2.2+0 ⇒ v3.2.2+1\u001b[39m\n",
      " \u001b[90m [efe28fd5] \u001b[39m\u001b[92m+ OpenSpecFun_jll v0.5.5+0\u001b[39m\n",
      " \u001b[90m [f50d1b31] \u001b[39m\u001b[92m+ Rmath_jll v0.3.0+0\u001b[39m\n",
      " \u001b[90m [4607b0f0] \u001b[39m\u001b[92m+ SuiteSparse\u001b[39m\n",
      " \u001b[90m [05823500] \u001b[39m\u001b[92m+ OpenLibm_jll\u001b[39m\n",
      "\u001b[32m\u001b[1mPrecompiling\u001b[22m\u001b[39m project...\n",
      "\u001b[32m  ✓ \u001b[39m\u001b[90mOpenLibm_jll\u001b[39m\n",
      "\u001b[32m  ✓ \u001b[39m\u001b[90mPDMats\u001b[39m\n",
      "\u001b[32m  ✓ \u001b[39m\u001b[90mFillArrays\u001b[39m\n",
      "\u001b[32m  ✓ \u001b[39m\u001b[90mDensityInterface\u001b[39m\n",
      "\u001b[32m  ✓ \u001b[39m\u001b[90mLibffi_jll\u001b[39m\n",
      "\u001b[32m  ✓ \u001b[39m\u001b[90mOpenSpecFun_jll\u001b[39m\n",
      "\u001b[32m  ✓ \u001b[39m\u001b[90mRmath_jll\u001b[39m\n",
      "\u001b[32m  ✓ \u001b[39m\u001b[90mQuadGK\u001b[39m\n",
      "\u001b[32m  ✓ \u001b[39m\u001b[90mWayland_jll\u001b[39m\n",
      "\u001b[32m  ✓ \u001b[39m\u001b[90mRmath\u001b[39m\n",
      "\u001b[32m  ✓ \u001b[39m\u001b[90mGlib_jll\u001b[39m\n",
      "\u001b[32m  ✓ \u001b[39m\u001b[90mWayland_protocols_jll\u001b[39m\n",
      "\u001b[32m  ✓ \u001b[39m\u001b[90mxkbcommon_jll\u001b[39m\n",
      "\u001b[32m  ✓ \u001b[39m\u001b[90mCairo_jll\u001b[39m\n",
      "\u001b[32m  ✓ \u001b[39m\u001b[90mQt5Base_jll\u001b[39m\n",
      "\u001b[32m  ✓ \u001b[39m\u001b[90mHarfBuzz_jll\u001b[39m\n",
      "\u001b[32m  ✓ \u001b[39m\u001b[90mSpecialFunctions\u001b[39m\n",
      "\u001b[32m  ✓ \u001b[39m\u001b[90mlibass_jll\u001b[39m\n",
      "\u001b[32m  ✓ \u001b[39m\u001b[90mFFMPEG_jll\u001b[39m\n",
      "\u001b[32m  ✓ \u001b[39m\u001b[90mStatsFuns\u001b[39m\n",
      "\u001b[32m  ✓ \u001b[39m\u001b[90mFFMPEG\u001b[39m\n",
      "\u001b[32m  ✓ \u001b[39m\u001b[90mGR_jll\u001b[39m\n",
      "\u001b[32m  ✓ \u001b[39m\u001b[90mGR\u001b[39m\n",
      "\u001b[32m  ✓ \u001b[39mDistributions\n",
      "\u001b[32m  ✓ \u001b[39mPlots\n",
      "  25 dependencies successfully precompiled in 120 seconds (119 already precompiled)\n"
     ]
    }
   ],
   "source": [
    "import Pkg\n",
    "Pkg.add(\"Distributions\")"
   ]
  },
  {
   "cell_type": "code",
   "execution_count": 2,
   "metadata": {},
   "outputs": [
    {
     "data": {
      "text/plain": [
       "LRMC_data_gen (generic function with 1 method)"
      ]
     },
     "execution_count": 2,
     "metadata": {},
     "output_type": "execute_result"
    }
   ],
   "source": [
    "using Random\n",
    "using LinearAlgebra\n",
    "using StatsBase\n",
    "using Distributions\n",
    "using Plots\n",
    "\n",
    "function GaussianGen(m::Int64, n::Int64)\n",
    "    A = randn(Float64, m, n)\n",
    "    Norm = zeros(m,n)\n",
    "    for i = 1:n\n",
    "        Norm[:,i] = normalize(A[:,i], 2);\n",
    "    end\n",
    "    return Norm\n",
    "end\n",
    "\n",
    "function Observation_samples(X::AbstractArray, m::Int64, n::Int64, samples::Int64)\n",
    "\n",
    "    random_indices = sample(randperm(m*n), samples, replace=false)\n",
    "\n",
    "    Ω = zeros(Bool, m, n)\n",
    "    Ω[random_indices] .= true\n",
    "\n",
    "    Y = zeros(m, n)\n",
    "\n",
    "    Y[Ω] = X[Ω]\n",
    "\n",
    "    return Y, Ω\n",
    "end\n",
    "\n",
    "function LRMC_data_gen(m::Int64, n::Int64, r::Int64)\n",
    "  U = GaussianGen(m, r)\n",
    "  G = GaussianGen(r, r)\n",
    "  V = GaussianGen(n, r)\n",
    "\n",
    "  X = U * G * V'\n",
    "\n",
    "  return X\n",
    "end"
   ]
  },
  {
   "cell_type": "markdown",
   "metadata": {},
   "source": [
    "## 3.2 Matrix Completion Techniques\n",
    "\n",
    "In the following, the suggested simulation setup is that $m = 32$, $n=48$, $r$ varies in $2:2:8$, and $|\\Omega|/mn$ varies in $\\{1/8,~ 1/6,~ 1/4,~ 1/2\\}$. "
   ]
  },
  {
   "cell_type": "markdown",
   "metadata": {},
   "source": [
    "### 3.2.1 Alternating Minimization (20%)\n",
    "\n",
    "Design, implement, and run tests for the alternating minimization method for low-rank matrix completion. Use the function name `LRMCRec_AM`. Provide necessary documentation."
   ]
  },
  {
   "cell_type": "markdown",
   "metadata": {},
   "source": [
    "### 3.2.2 Iterative Hard Thresholding (IHT) (20%)\n",
    "\n",
    "Design, implement, and run simple tests for the IHT algorithm for low-rank matrix completion. Use the function name `LRMCRec_IHT`. Provide necessary documentation. "
   ]
  },
  {
   "cell_type": "markdown",
   "metadata": {},
   "source": [
    "### 3.2.3 Iterative Shrinkage-Thresholding Algorithm (ISTA) (25%)\n",
    "\n",
    "Design, implement, and run simple tests for ISTA (to solve the Lasso formulation) for low-rank matrix completion. Use the function name `LRMCRec_ISTA`. Provide necessary documentation. Use simulations to discuss the choice of parameters."
   ]
  },
  {
   "cell_type": "markdown",
   "metadata": {},
   "source": [
    "### 3.2.4 Lasso-ADMM (25%)\n",
    "\n",
    "Design, implement, and run simple tests for an ADMM algorithm (to solve the Lasso formulation) for low-rank matrix completion. Use the function name `LRMCRec_ADMM`. Provide necessary documentation. Compare ADMM and ISTA in terms of convergence."
   ]
  },
  {
   "cell_type": "markdown",
   "metadata": {},
   "source": [
    "Lasso formulation is written as:\n",
    "$$\n",
    "argmin_{x} \\frac{1}{2}||y - Ax||_{2}^{2} + \\lambda||x||_{1}\n",
    "$$\n",
    "Since ADMM algorithm will be used for low rank matrix completion, we can interpret the $Ax$ of the lasso problem as the linear mapping of the revealed entries of x (our estimation matrix) indexed by $\\Omega$.\n"
   ]
  },
  {
   "cell_type": "markdown",
   "metadata": {},
   "source": [
    "Given that the corresponding ADMM iterations are:\n",
    "$$\n",
    "x^{k+1} = arg min_x \\frac{1}{2}||y - Ax||_{2}^{2} + \\frac{\\rho}{2}||x - z_{k} + \\frac{v_{k}}{\\rho}||_{2}^{2}\n",
    "$$\n",
    "$$\n",
    "z^{k+1} = arg min_z \\lambda ||z||_{1} + \\frac{\\rho}{2}||x_{k+1} - z + \\frac{v_{k}}{\\rho}||_{2}^{2}\n",
    "$$\n",
    "$$\n",
    "v^{k+1} = v_{k} + \\rho (x^{k+1} - z^{k+1})\n",
    "$$\n",
    "\n",
    "For $x^{k+1}$, we can calculate the closed form solutions by setting $\\nabla f(x)=0$\n",
    "$$\n",
    "x = (A^{T}A + \\rho)^{-1} (A^{T}y + \\rho z^{k} - v^{k})\n",
    "$$\n",
    "We can do the same for $z^{k+1}$. We just need to be wary of the sign(z) that appears when differentiating the l1 norm.\n",
    "$$\n",
    "\\lambda sign(z) + \\rho z = \\rho x^{k+1} + v^{k}\n",
    "$$\n",
    "\n",
    "When $z>0$ :\n",
    "$$\n",
    "\\rho z = \\rho x^{k+1} + v^{k} - \\lambda\n",
    "$$\n",
    "$$\n",
    "z = x^{k+1} + \\frac{v^{k}}{\\rho} - \\frac{\\lambda}{\\rho}\n",
    "$$\n",
    "\n",
    "When $z<0$:\n",
    "$$\n",
    "z = x^{k+1} + \\frac{v^{k}}{\\rho} + \\frac{\\lambda}{\\rho}\n",
    "$$"
   ]
  },
  {
   "cell_type": "code",
   "execution_count": 94,
   "metadata": {},
   "outputs": [
    {
     "data": {
      "text/plain": [
       "LRMCRec_ADMM (generic function with 2 methods)"
      ]
     },
     "execution_count": 94,
     "metadata": {},
     "output_type": "execute_result"
    }
   ],
   "source": [
    "using LinearAlgebra\n",
    "using SparseArrays\n",
    "\n",
    "#=\n",
    "For solving lasso problem with admm:\n",
    "\n",
    "    0.5(y-Ax)^2 + lambda*norm(x,1)\n",
    "    \n",
    "=#\n",
    "\n",
    "function nz_idx(Y)\n",
    "    idxs = []\n",
    "    for (i,v) in enumerate(Y)\n",
    "        if Y[i] != 0\n",
    "            push!(idxs, i)\n",
    "        end\n",
    "    end\n",
    "    idxs = Array{Int64}(idxs)\n",
    "    return idxs\n",
    "end\n",
    "\n",
    "function get_mapping_matrix(Y)\n",
    "    m = size(Y, 1)\n",
    "    n = size(Y, 2)\n",
    "\n",
    "    c = m*n\n",
    "    r = length(nz_idx(Y))\n",
    "    A = zeros(r,c)\n",
    "\n",
    "    index_set = nz_idx(Y)\n",
    "\n",
    "    for (i,v) in enumerate(index_set)\n",
    "       A[i,v] = 1  #create identity matrix that acts as linear operator\n",
    "    end\n",
    "\n",
    "    return A\n",
    "end\n",
    "\n",
    "function LRMCRec_ADMM(Y, lambda, rho)\n",
    "    maxiter = 500\n",
    "    loss = []\n",
    "\n",
    "    A = get_mapping_matrix(Y)\n",
    "\n",
    "    c = size(Y,2)\n",
    "    r = size(A,2)\n",
    "\n",
    "    identity = sparse(I,size(A,2),size(A,2))\n",
    "    # #Initialise\n",
    "    \n",
    "    # z = randn(r,c)\n",
    "    # v = zeros(size(Y,1), size(Y,2))\n",
    "    # x = 0\n",
    "\n",
    "    # for i in 1:maxiter\n",
    "    #     x = inv(A'*A + rho * identity) * (A'*Y + rho * z - v)\n",
    "\n",
    "    #     if z >= 0\n",
    "    #         z = x + v/rho - lambda/rho\n",
    "    #     end\n",
    "    #     if z < 0\n",
    "    #         z = x + v/rho + lambda/rho\n",
    "    #     end\n",
    "    #     v = v + rho * (x - z)\n",
    "        \n",
    "    #     cost = 0.5 * norm(Y - A*x, 2) + lambda * norm(x, 1)\n",
    "    #     append!(loss, cost)\n",
    "    # end\n",
    "    return identity\n",
    "end\n",
    "    "
   ]
  },
  {
   "cell_type": "code",
   "execution_count": 95,
   "metadata": {},
   "outputs": [
    {
     "data": {
      "text/plain": [
       "1536×1536 SparseMatrixCSC{Bool, Int64} with 1536 stored entries:\n",
       "⠑⢄⠀⠀⠀⠀⠀⠀⠀⠀⠀⠀⠀⠀⠀⠀⠀⠀⠀⠀⠀⠀⠀⠀⠀⠀⠀⠀⠀⠀⠀⠀⠀⠀⠀⠀⠀⠀⠀⠀\n",
       "⠀⠀⠑⢄⠀⠀⠀⠀⠀⠀⠀⠀⠀⠀⠀⠀⠀⠀⠀⠀⠀⠀⠀⠀⠀⠀⠀⠀⠀⠀⠀⠀⠀⠀⠀⠀⠀⠀⠀⠀\n",
       "⠀⠀⠀⠀⠑⢄⠀⠀⠀⠀⠀⠀⠀⠀⠀⠀⠀⠀⠀⠀⠀⠀⠀⠀⠀⠀⠀⠀⠀⠀⠀⠀⠀⠀⠀⠀⠀⠀⠀⠀\n",
       "⠀⠀⠀⠀⠀⠀⠑⢄⠀⠀⠀⠀⠀⠀⠀⠀⠀⠀⠀⠀⠀⠀⠀⠀⠀⠀⠀⠀⠀⠀⠀⠀⠀⠀⠀⠀⠀⠀⠀⠀\n",
       "⠀⠀⠀⠀⠀⠀⠀⠀⠑⢄⠀⠀⠀⠀⠀⠀⠀⠀⠀⠀⠀⠀⠀⠀⠀⠀⠀⠀⠀⠀⠀⠀⠀⠀⠀⠀⠀⠀⠀⠀\n",
       "⠀⠀⠀⠀⠀⠀⠀⠀⠀⠀⠑⢄⠀⠀⠀⠀⠀⠀⠀⠀⠀⠀⠀⠀⠀⠀⠀⠀⠀⠀⠀⠀⠀⠀⠀⠀⠀⠀⠀⠀\n",
       "⠀⠀⠀⠀⠀⠀⠀⠀⠀⠀⠀⠀⠑⢄⠀⠀⠀⠀⠀⠀⠀⠀⠀⠀⠀⠀⠀⠀⠀⠀⠀⠀⠀⠀⠀⠀⠀⠀⠀⠀\n",
       "⠀⠀⠀⠀⠀⠀⠀⠀⠀⠀⠀⠀⠀⠀⠑⢄⠀⠀⠀⠀⠀⠀⠀⠀⠀⠀⠀⠀⠀⠀⠀⠀⠀⠀⠀⠀⠀⠀⠀⠀\n",
       "⠀⠀⠀⠀⠀⠀⠀⠀⠀⠀⠀⠀⠀⠀⠀⠀⠑⢄⠀⠀⠀⠀⠀⠀⠀⠀⠀⠀⠀⠀⠀⠀⠀⠀⠀⠀⠀⠀⠀⠀\n",
       "⠀⠀⠀⠀⠀⠀⠀⠀⠀⠀⠀⠀⠀⠀⠀⠀⠀⠀⠑⢄⠀⠀⠀⠀⠀⠀⠀⠀⠀⠀⠀⠀⠀⠀⠀⠀⠀⠀⠀⠀\n",
       "⠀⠀⠀⠀⠀⠀⠀⠀⠀⠀⠀⠀⠀⠀⠀⠀⠀⠀⠀⠀⠑⢄⠀⠀⠀⠀⠀⠀⠀⠀⠀⠀⠀⠀⠀⠀⠀⠀⠀⠀\n",
       "⠀⠀⠀⠀⠀⠀⠀⠀⠀⠀⠀⠀⠀⠀⠀⠀⠀⠀⠀⠀⠀⠀⠑⢄⠀⠀⠀⠀⠀⠀⠀⠀⠀⠀⠀⠀⠀⠀⠀⠀\n",
       "⠀⠀⠀⠀⠀⠀⠀⠀⠀⠀⠀⠀⠀⠀⠀⠀⠀⠀⠀⠀⠀⠀⠀⠀⠑⢄⠀⠀⠀⠀⠀⠀⠀⠀⠀⠀⠀⠀⠀⠀\n",
       "⠀⠀⠀⠀⠀⠀⠀⠀⠀⠀⠀⠀⠀⠀⠀⠀⠀⠀⠀⠀⠀⠀⠀⠀⠀⠀⠑⢄⠀⠀⠀⠀⠀⠀⠀⠀⠀⠀⠀⠀\n",
       "⠀⠀⠀⠀⠀⠀⠀⠀⠀⠀⠀⠀⠀⠀⠀⠀⠀⠀⠀⠀⠀⠀⠀⠀⠀⠀⠀⠀⠑⢄⠀⠀⠀⠀⠀⠀⠀⠀⠀⠀\n",
       "⠀⠀⠀⠀⠀⠀⠀⠀⠀⠀⠀⠀⠀⠀⠀⠀⠀⠀⠀⠀⠀⠀⠀⠀⠀⠀⠀⠀⠀⠀⠑⢄⠀⠀⠀⠀⠀⠀⠀⠀\n",
       "⠀⠀⠀⠀⠀⠀⠀⠀⠀⠀⠀⠀⠀⠀⠀⠀⠀⠀⠀⠀⠀⠀⠀⠀⠀⠀⠀⠀⠀⠀⠀⠀⠑⢄⠀⠀⠀⠀⠀⠀\n",
       "⠀⠀⠀⠀⠀⠀⠀⠀⠀⠀⠀⠀⠀⠀⠀⠀⠀⠀⠀⠀⠀⠀⠀⠀⠀⠀⠀⠀⠀⠀⠀⠀⠀⠀⠑⢄⠀⠀⠀⠀\n",
       "⠀⠀⠀⠀⠀⠀⠀⠀⠀⠀⠀⠀⠀⠀⠀⠀⠀⠀⠀⠀⠀⠀⠀⠀⠀⠀⠀⠀⠀⠀⠀⠀⠀⠀⠀⠀⠑⢄⠀⠀\n",
       "⠀⠀⠀⠀⠀⠀⠀⠀⠀⠀⠀⠀⠀⠀⠀⠀⠀⠀⠀⠀⠀⠀⠀⠀⠀⠀⠀⠀⠀⠀⠀⠀⠀⠀⠀⠀⠀⠀⠑⢄"
      ]
     },
     "execution_count": 95,
     "metadata": {},
     "output_type": "execute_result"
    }
   ],
   "source": [
    "m = 48; n = 32\n",
    "#Ω_sizes = [192,256,384,768]\n",
    "Ω_size = 192\n",
    "plot_arr = Plots.Plot{Plots.GRBackend}[]\n",
    "lambda = 0.001\n",
    "rho = 1e-4\n",
    "r = 2\n",
    "Y, omega = Observation_samples(X, m, n, Ω_size)\n",
    "get_mapping_matrix(Y)\n",
    "LRMCRec_ADMM(Y,lambda,rho)\n",
    "\n",
    "# for r= 2:2:8 \n",
    "#     p_r = plot()\n",
    "#     X  = LRMC_data_gen(m, n, r)\n",
    "#     for Ω_size in Ω_sizes \n",
    "#         Y, omega = Observation_samples(X, m, n, Ω_size)\n",
    "#         x, loss = LRMCRec_ADMM(Y,lambda,rho)\n",
    "#         plot!(p_r, num_iters, loss, label=\"|Ω|=$(Ω_size)\", title=\"IHT for r=$(r)\",fmt = :png,dpi=2080)\n",
    "#         @show rank(x)\n",
    "#     end\n",
    "#     push!(plot_arr,p_r)\n",
    "# end\n",
    "\n",
    "#plot(plot_arr[1],plot_arr[2],plot_arr[3],plot_arr[4])"
   ]
  },
  {
   "cell_type": "markdown",
   "metadata": {},
   "source": [
    "## Highlight\n",
    "\n",
    "Please list a couple of highlights of your coursework that may impress your markers."
   ]
  }
 ],
 "metadata": {
  "kernelspec": {
   "display_name": "Julia 1.6.3",
   "language": "julia",
   "name": "julia-1.6"
  },
  "language_info": {
   "file_extension": ".jl",
   "mimetype": "application/julia",
   "name": "julia",
   "version": "1.6.3"
  },
  "orig_nbformat": 4
 },
 "nbformat": 4,
 "nbformat_minor": 2
}
