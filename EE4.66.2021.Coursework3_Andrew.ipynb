{
 "cells": [
  {
   "cell_type": "markdown",
   "metadata": {},
   "source": [
    "# Coursework 3: Bilinear Inverse Problems and Low-Rank Matrix Recovery"
   ]
  },
  {
   "cell_type": "markdown",
   "metadata": {},
   "source": [
    "[] By tick the checkbox, we hereby declare that this coursework report is our own and autonomous work. We have acknowledged all material and sources used in its preparation, including books, articles, reports, lecture notes, internet software packages, and any other kind of document, electronic or personal communication. This work has not been submitted for any other assessment."
   ]
  },
  {
   "cell_type": "markdown",
   "metadata": {},
   "source": [
    "## 3.1 Test Data Generation (10%)\n",
    "\n",
    "We consider the low-rank matrix completion problem given by \n",
    "$$\n",
    "    \\bm{y} = \\mathcal{P}_{\\Omega}(\\bm{X}) \n",
    "$$\n",
    "where $\\bm{X} \\in \\mathbb{R}^{m \\times n}$ is a low rank matrix of rank $r$. \n",
    "\n",
    "Data generation: Write $\\bm{X} = \\bm{U} \\bm{G} \\bm{V}^{\\mathsf{T}}$, where $\\bm{U} \\in \\mathbb{R}^{m \\times r}$, $\\bm{G} \\in \\mathbb{R}^{r \\times r}$, and $\\bm{V} \\in \\mathbb{R}^{n \\times r}$ are matrices with i.i.d. $\\mathcal{N}(0,1)$ Gaussian entries. (Note that by $\\bm{X} = \\bm{U} \\bm{G} \\bm{V}^{\\mathsf{T}}$ we are not talking about SVD.)\n",
    "\n",
    "Design and implement a function `LRMC_data_gen` to generate test data. Provide necessary documentation."
   ]
  },
  {
   "cell_type": "code",
   "execution_count": 6,
   "metadata": {},
   "outputs": [
    {
     "data": {
      "text/plain": [
       "2"
      ]
     },
     "execution_count": 6,
     "metadata": {},
     "output_type": "execute_result"
    }
   ],
   "source": [
    "using LinearAlgebra\n",
    "\n",
    "function gen_GaussianMat(m,n)\n",
    "  #normalize columns\n",
    "  A = randn(m,n)\n",
    "  for i = 1:n\n",
    "    v = A[:,i]\n",
    "    A[:,i] = v/norm(v,2)\n",
    "  end\n",
    "  return A\n",
    "end\n",
    "\n",
    "function LRMC_data_gen(r, m, n)\n",
    "  G = Diagonal(randn(r))\n",
    "  U = gen_GaussianMat(m, r)\n",
    "  V = gen_GaussianMat(n, r)\n",
    "  X = U*G*transpose(V)\n",
    "\n",
    "  return X\n",
    "end\n",
    "\n",
    "test = LRMC_data_gen(2, 32, 48)\n",
    "rank(test)\n",
    "    "
   ]
  },
  {
   "cell_type": "code",
   "execution_count": 6,
   "metadata": {},
   "outputs": [
    {
     "data": {
      "text/plain": [
       "3×8 Matrix{Float64}:\n",
       " -0.329252    0.138748    0.0519582    0.0348793  …   0.0619741   -0.056721\n",
       "  0.117844   -0.0701854  -0.032908     0.038088      -0.0294626    0.109491\n",
       "  0.0502099  -0.0159332  -0.00428003  -0.0181936     -0.00759719  -0.0140564"
      ]
     },
     "execution_count": 6,
     "metadata": {},
     "output_type": "execute_result"
    }
   ],
   "source": [
    "using LinearAlgebra\n",
    "\n",
    "function gen_Gaussian_Mat(m::Int,n::Int)\n",
    "\n",
    "    A = randn(m,n)\n",
    "    for i = 1:n\n",
    "        v = A[:,i]\n",
    "        A[:,i] = v/norm(v,2)\n",
    "    end\n",
    "    return A\n",
    "end\n",
    "\n",
    "function generate_Omega(m::Int, n::Int, size_Omega::Int)\n",
    "    Omega = zeros(Int,m,n)\n",
    "\n",
    "    count = 0 \n",
    "    while count != size_Omega \n",
    "        i = rand(1:m); j = rand(1:n)\n",
    "        if Omega[i,j] != 1\n",
    "            Omega[i,j] = 1\n",
    "            count +=1 \n",
    "        end\n",
    "    end\n",
    "    return Omega\n",
    "end\n",
    "\n",
    "function linear_projection(Omega::Matrix{Int64},X)\n",
    "    y = []\n",
    "    for i = 1:size(X,1) \n",
    "        for j = 1:size(X,2)\n",
    "            if Omega[i,j] == 1 \n",
    "                append!(y,X[i,j])\n",
    "            end\n",
    "        end        \n",
    "    end\n",
    "    return y\n",
    "end\n",
    "\n",
    "function LRMC_data_gen(r::Int,m::Int,n::Int, Omega::Matrix{Int64}) \n",
    "    G = Diagonal(randn(r)) \n",
    "    U = gen_Gaussian_Mat(m,r)\n",
    "    V = gen_Gaussian_Mat(n,r)\n",
    "    X = U*G*transpose(V)\n",
    "    y = linear_projection(Omega,X)\n",
    "    return y,X \n",
    "end\n",
    "r = 2\n",
    "m = 3; n = 8; size_Omega = Int(1/8 * m * n) ;\n",
    "\n",
    "Omega = generate_Omega(m,n,size_Omega)\n",
    "\n",
    "y, X = LRMC_data_gen(r,m,n,Omega)\n",
    "\n",
    "X"
   ]
  },
  {
   "cell_type": "markdown",
   "metadata": {},
   "source": [
    "## 3.2 Matrix Completion Techniques\n",
    "\n",
    "In the following, the suggested simulation setup is that $m = 32$, $n=48$, $r$ varies in $2:2:8$, and $|\\Omega|/mn$ varies in $\\{1/8,~ 1/6,~ 1/4,~ 1/2\\}$. "
   ]
  },
  {
   "cell_type": "markdown",
   "metadata": {},
   "source": [
    "### 3.2.1 Alternating Minimization (20%)\n",
    "\n",
    "Design, implement, and run tests for the alternating minimization method for low-rank matrix completion. Use the function name `LRMCRec_AM`. Provide necessary documentation."
   ]
  },
  {
   "cell_type": "markdown",
   "metadata": {},
   "source": [
    "### 3.2.2 Iterative Hard Thresholding (IHT) (20%)\n",
    "\n",
    "Design, implement, and run simple tests for the IHT algorithm for low-rank matrix completion. Use the function name `LRMCRec_IHT`. Provide necessary documentation. "
   ]
  },
  {
   "cell_type": "markdown",
   "metadata": {},
   "source": [
    "### 3.2.3 Iterative Shrinkage-Thresholding Algorithm (ISTA) (25%)\n",
    "\n",
    "Design, implement, and run simple tests for ISTA (to solve the Lasso formulation) for low-rank matrix completion. Use the function name `LRMCRec_ISTA`. Provide necessary documentation. Use simulations to discuss the choice of parameters."
   ]
  },
  {
   "cell_type": "markdown",
   "metadata": {},
   "source": [
    "### 3.2.4 Lasso-ADMM (25%)\n",
    "\n",
    "Design, implement, and run simple tests for an ADMM algorithm (to solve the Lasso formulation) for low-rank matrix completion. Use the function name `LRMCRec_ADMM`. Provide necessary documentation. Compare ADMM and ISTA in terms of convergence."
   ]
  },
  {
   "cell_type": "markdown",
   "metadata": {},
   "source": [
    "Given that the corresponding ADMM iterations are:\n",
    "$$\n",
    "x^{k+1} = arg min_x \\frac{1}{2}||y - Ax||_{2}^{2} + \\frac{\\rho}{2}||x - z_{k} + \\frac{v_{k}}{\\rho}||_{2}^{2}\n",
    "$$\n",
    "$$\n",
    "z^{k+1} = arg min_z \\lambda ||z||_{1} + \\frac{\\rho}{2}||x_{k+1} - z + \\frac{v_{k}}{\\rho}||_{2}^{2}\n",
    "$$\n",
    "$$\n",
    "v^{k+1} = v_{k} + \\rho (x^{k+1} - z^{k+1})\n",
    "$$\n",
    "\n",
    "For $x^{k+1}$, we can calculate the closed form solutions by setting $\\nabla f(x)=0$\n",
    "$$\n",
    "x = (A^{T}A + \\rho)^{-1} (A^{T}y + \\rho z^{k} - v^{k})\n",
    "$$\n",
    "We can do the same for $z^{k+1}$. We just need to be wary of the sign(z) that appears when differentiating the l1 norm.\n",
    "$$\n",
    "\\lambda sign(z) + \\rho z = \\rho x^{k+1} + v^{k}\n",
    "$$\n",
    "\n",
    "When $z>0$ :\n",
    "$$\n",
    "\\rho z = \\rho x^{k+1} + v^{k} - \\lambda\n",
    "$$\n",
    "$$\n",
    "z = x^{k+1} + \\frac{v^{k}}{\\rho} - \\frac{\\lambda}{\\rho}\n",
    "$$\n",
    "\n",
    "When $z<0$:\n",
    "$$\n",
    "z = x^{k+1} + \\frac{v^{k}}{\\rho} + \\frac{\\lambda}{\\rho}\n",
    "$$"
   ]
  },
  {
   "cell_type": "code",
   "execution_count": null,
   "metadata": {},
   "outputs": [],
   "source": [
    "using LinearAlgebra\n",
    "using SparseArrays\n",
    "\n",
    "#=\n",
    "For solving lasso problem with admm:\n",
    "\n",
    "    0.5(y-Ax)^2 + lambda*norm(x,1)\n",
    "    \n",
    "=#\n",
    "function LRMCRec_ADMM(y, A, lambda, rho)\n",
    "    maxiter = 500\n",
    "    loss = []\n",
    "    rho = 1e-4 #set parameter\n",
    "\n",
    "    c = size(y,2)\n",
    "    r = size(A,2)\n",
    "\n",
    "    I = sparse(I,r,r)\n",
    "    #Initialise\n",
    "    \n",
    "    z = randn(r,c)\n",
    "    v = zeros(size(y,1), size(y,2))\n",
    "\n",
    "    for i in 1:maxiter\n",
    "        x = inv(A'*A + rho * I) * (A'*y + rho * z - v)\n",
    "\n",
    "        if z >= 0\n",
    "            z = x + v/rho - lambda/rho\n",
    "        end\n",
    "        if z < 0\n",
    "            z = x + v/rho + lambda/rho\n",
    "        end\n",
    "        v = v + rho * (x - z)\n",
    "        \n",
    "        cost = 0.5 * norm(y - A*x, 2) + lambda * norm(x, 1)\n",
    "        append!(loss, cost)\n",
    "    end\n",
    "end\n",
    "    "
   ]
  },
  {
   "cell_type": "markdown",
   "metadata": {},
   "source": [
    "## Highlight\n",
    "\n",
    "Please list a couple of highlights of your coursework that may impress your markers."
   ]
  }
 ],
 "metadata": {
  "kernelspec": {
   "display_name": "Julia 1.6.3",
   "language": "julia",
   "name": "julia-1.6"
  },
  "language_info": {
   "file_extension": ".jl",
   "mimetype": "application/julia",
   "name": "julia",
   "version": "1.6.3"
  },
  "orig_nbformat": 4
 },
 "nbformat": 4,
 "nbformat_minor": 2
}
